{
  "nbformat": 4,
  "nbformat_minor": 0,
  "metadata": {
    "colab": {
      "name": "Assignment2ipynb",
      "provenance": []
    },
    "kernelspec": {
      "name": "python3",
      "display_name": "Python 3"
    }
  },
  "cells": [
    {
      "cell_type": "markdown",
      "metadata": {
        "id": "-C2z66fW8_rB",
        "colab_type": "text"
      },
      "source": [
        "**Q)Write a Python function which takes a character (i.e. a string of length 1) and returns True if it is\n",
        "a vowel, False otherwise**"
      ]
    },
    {
      "cell_type": "code",
      "metadata": {
        "id": "WOiym-is87DI",
        "colab_type": "code",
        "colab": {}
      },
      "source": [
        "#function \n",
        "\n",
        "st=\"aeiou\"\n",
        "def vowel(s):\n",
        "  s=input()\n",
        "  for i in \"aeiou\":\n",
        "    if s== i:\n",
        "      return True\n",
        "    else:\n",
        "      return False"
      ],
      "execution_count": 0,
      "outputs": []
    },
    {
      "cell_type": "code",
      "metadata": {
        "id": "jinHxWbB9dPG",
        "colab_type": "code",
        "outputId": "833e3cc6-9877-4c4c-e141-2d006f9e388a",
        "colab": {
          "base_uri": "https://localhost:8080/",
          "height": 54
        }
      },
      "source": [
        "vowel(s)"
      ],
      "execution_count": 0,
      "outputs": [
        {
          "output_type": "stream",
          "text": [
            "b\n"
          ],
          "name": "stdout"
        },
        {
          "output_type": "execute_result",
          "data": {
            "text/plain": [
              "False"
            ]
          },
          "metadata": {
            "tags": []
          },
          "execution_count": 14
        }
      ]
    },
    {
      "cell_type": "code",
      "metadata": {
        "id": "3dA8mlbw-pvy",
        "colab_type": "code",
        "outputId": "2c7df996-8c22-4caf-803b-a6abcf29fa8d",
        "colab": {
          "base_uri": "https://localhost:8080/",
          "height": 54
        }
      },
      "source": [
        "vowel(s)\n"
      ],
      "execution_count": 0,
      "outputs": [
        {
          "output_type": "stream",
          "text": [
            "a\n"
          ],
          "name": "stdout"
        },
        {
          "output_type": "execute_result",
          "data": {
            "text/plain": [
              "True"
            ]
          },
          "metadata": {
            "tags": []
          },
          "execution_count": 15
        }
      ]
    },
    {
      "cell_type": "markdown",
      "metadata": {
        "id": "00ig4U8NB5tB",
        "colab_type": "text"
      },
      "source": [
        "**Q)Write a Python program using function concept that maps list of words into a list of integers\n",
        "representing the lengths of the corresponding words.**"
      ]
    },
    {
      "cell_type": "code",
      "metadata": {
        "id": "UldDWCJ8-_oh",
        "colab_type": "code",
        "outputId": "939bae74-afcb-40b1-dcf9-55fbe33d3637",
        "colab": {
          "base_uri": "https://localhost:8080/",
          "height": 35
        }
      },
      "source": [
        "l= ['bc','deef','ghi']\n",
        "def listcount(l):\n",
        "  w=[]\n",
        "  for l in l:\n",
        "    w.append(len(l))\n",
        "  print(w)\n",
        "\n",
        "listcount(l)"
      ],
      "execution_count": 0,
      "outputs": [
        {
          "output_type": "stream",
          "text": [
            "[2, 4, 3]\n"
          ],
          "name": "stdout"
        }
      ]
    },
    {
      "cell_type": "markdown",
      "metadata": {
        "id": "han9fqTWCsTA",
        "colab_type": "text"
      },
      "source": [
        "**Q)Write a function filter_long_words() that takes a list of words and an integer n and returns the list\n",
        "of words that are longer than n.**"
      ]
    },
    {
      "cell_type": "code",
      "metadata": {
        "id": "10fYPRgt_f4y",
        "colab_type": "code",
        "outputId": "9d0e4676-f2f0-4f4c-a7d9-25a72f22fe47",
        "colab": {
          "base_uri": "https://localhost:8080/",
          "height": 90
        }
      },
      "source": [
        "lis= ['bcsdf','efsefse','deeffessffs','ghisssss','efsefsecsev']\n",
        "def filter_long_words(lis,n):\n",
        "  for lis in lis:\n",
        "    if len(lis)> n:\n",
        "      print(lis)\n",
        "filter_long_words(lis,6)"
      ],
      "execution_count": 0,
      "outputs": [
        {
          "output_type": "stream",
          "text": [
            "efsefse\n",
            "deeffessffs\n",
            "ghisssss\n",
            "efsefsecsev\n"
          ],
          "name": "stdout"
        }
      ]
    },
    {
      "cell_type": "markdown",
      "metadata": {
        "id": "nVC2Rrn_G2vF",
        "colab_type": "text"
      },
      "source": [
        "**Q)Implement a function longestWord() that takes a list of words and returns the longest one.**"
      ]
    },
    {
      "cell_type": "code",
      "metadata": {
        "id": "3OTStGZOFvDd",
        "colab_type": "code",
        "outputId": "02779906-b1bd-4b6f-f0de-a326bc535492",
        "colab": {
          "base_uri": "https://localhost:8080/",
          "height": 35
        }
      },
      "source": [
        "def longestword(words):\n",
        "    wordl = []\n",
        "    for n in words:\n",
        "        wordl.append((len(n), n))\n",
        "    wordl.sort()\n",
        "    return wordl[-1][1]\n",
        "\n",
        "print(longestword(['kesaboina', 'venkata','sai','sashank']))"
      ],
      "execution_count": 0,
      "outputs": [
        {
          "output_type": "stream",
          "text": [
            "kesaboina\n"
          ],
          "name": "stdout"
        }
      ]
    },
    {
      "cell_type": "markdown",
      "metadata": {
        "id": "SHMeNEJgOdfb",
        "colab_type": "text"
      },
      "source": [
        "**Q)Write a Python Program to implement your own myreduce() function which works exactly like\n",
        "Python's built-in function reduce()**"
      ]
    },
    {
      "cell_type": "code",
      "metadata": {
        "id": "gucbC3W6Hck3",
        "colab_type": "code",
        "outputId": "c852182c-93dd-4c25-caf4-f89ae34c2ad9",
        "colab": {
          "base_uri": "https://localhost:8080/",
          "height": 35
        }
      },
      "source": [
        "def myreduce(n):\n",
        "  sum=0;\n",
        "  for i in range(0,n+1):\n",
        "    sum=sum+i\n",
        "  print(sum)\n",
        "\n",
        "myreduce(5)\n"
      ],
      "execution_count": 0,
      "outputs": [
        {
          "output_type": "stream",
          "text": [
            "15\n"
          ],
          "name": "stdout"
        }
      ]
    },
    {
      "cell_type": "code",
      "metadata": {
        "id": "a4Tbobu_PMws",
        "colab_type": "code",
        "outputId": "55827583-a367-48e0-d90f-dbe85990eea5",
        "colab": {
          "base_uri": "https://localhost:8080/",
          "height": 35
        }
      },
      "source": [
        "#using reduce function\n",
        "from functools import reduce\n",
        "def summation(a,b):\n",
        "  return a+b\n",
        "l=[1,2,3,4,5]\n",
        "reduce(summation,l)"
      ],
      "execution_count": 0,
      "outputs": [
        {
          "output_type": "execute_result",
          "data": {
            "text/plain": [
              "15"
            ]
          },
          "metadata": {
            "tags": []
          },
          "execution_count": 6
        }
      ]
    },
    {
      "cell_type": "markdown",
      "metadata": {
        "id": "Q9A1zVxOIOgG",
        "colab_type": "text"
      },
      "source": [
        "**Q)Write a Python Program(with class concepts) to find the area of the triangle**"
      ]
    },
    {
      "cell_type": "code",
      "metadata": {
        "id": "0GOe7SV6Pp3H",
        "colab_type": "code",
        "outputId": "3014fff0-b5eb-434e-de86-c7a94fc1fbdb",
        "colab": {
          "base_uri": "https://localhost:8080/",
          "height": 90
        }
      },
      "source": [
        "import sys\n",
        "import math\n",
        " \n",
        "a = int(input('Please enter the first side of a triangle: '))\n",
        "b = int(input('Please enter the second side of a triangle: '))\n",
        "c = int(input('Please enter the third side of a triangle: '))\n",
        "class triangle():\n",
        "   def __init__(self,a,b,c):\n",
        "       self.a = a\n",
        "       self.b = b\n",
        "       self.c = c\n",
        "   def area(self):\n",
        "       s=(a + b + c)/2\n",
        "       area=math.sqrt(s*(s-a)*(s-b)*(s-c))\n",
        "       return area\n",
        "t = triangle(a, b, c)\n",
        "print(t.area())"
      ],
      "execution_count": 0,
      "outputs": [
        {
          "output_type": "stream",
          "text": [
            "Please enter the first side of a triangle: 26\n",
            "Please enter the second side of a triangle: 36\n",
            "Please enter the third side of a triangle: 56\n",
            "366.5283072287869\n"
          ],
          "name": "stdout"
        }
      ]
    },
    {
      "cell_type": "code",
      "metadata": {
        "id": "NVfZppOlG_Wk",
        "colab_type": "code",
        "colab": {}
      },
      "source": [
        ""
      ],
      "execution_count": 0,
      "outputs": []
    }
  ]
}